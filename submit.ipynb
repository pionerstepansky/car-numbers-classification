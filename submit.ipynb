{
 "cells": [
  {
   "cell_type": "code",
   "execution_count": 1,
   "metadata": {},
   "outputs": [],
   "source": [
    "%load_ext autoreload"
   ]
  },
  {
   "cell_type": "code",
   "execution_count": 2,
   "metadata": {},
   "outputs": [],
   "source": [
    "%autoreload 2"
   ]
  },
  {
   "cell_type": "code",
   "execution_count": 3,
   "metadata": {},
   "outputs": [],
   "source": [
    "import os\n",
    "import pandas as pd\n",
    "import numpy as np\n",
    "%matplotlib inline"
   ]
  },
  {
   "cell_type": "code",
   "execution_count": 4,
   "metadata": {},
   "outputs": [],
   "source": [
    "from src.model import ImageClassifier\n",
    "from src.utils import ImagesDataset, evaluate_model\n",
    "from src.transforms import transform"
   ]
  },
  {
   "cell_type": "code",
   "execution_count": 5,
   "metadata": {},
   "outputs": [],
   "source": [
    "model_0 = ImageClassifier.load_from_checkpoint('model_0.ckpt')\n",
    "model_1 = ImageClassifier.load_from_checkpoint('model_1.ckpt')\n",
    "model_2 = ImageClassifier.load_from_checkpoint('model_2.ckpt')\n",
    "model_3 = ImageClassifier.load_from_checkpoint('model_3.ckpt')\n",
    "model_4 = ImageClassifier.load_from_checkpoint('model_4.ckpt')"
   ]
  },
  {
   "cell_type": "code",
   "execution_count": 6,
   "metadata": {},
   "outputs": [],
   "source": [
    "test_images_paths = [os.path.join('val', fname) for fname in os.listdir('val')]\n",
    "test_images_dataset = ImagesDataset(test_images_paths, transform=transform)"
   ]
  },
  {
   "cell_type": "code",
   "execution_count": 9,
   "metadata": {},
   "outputs": [
    {
     "name": "stderr",
     "output_type": "stream",
     "text": [
      "100%|██████████| 1/1 [00:08<00:00,  8.79s/it]\n"
     ]
    }
   ],
   "source": [
    "_, predictions_0 = evaluate_model(model_0, test_images_dataset, batch_size=1)\n",
    "_, predictions_1 = evaluate_model(model_1, test_images_dataset, batch_size=1)\n",
    "_, predictions_2 = evaluate_model(model_2, test_images_dataset, batch_size=1)\n",
    "_, predictions_3 = evaluate_model(model_3, test_images_dataset, batch_size=1)\n",
    "_, predictions_4 = evaluate_model(model_4, test_images_dataset, batch_size=1)\n",
    "predictions = (np.array(predictions_0) + np.array(predictions_1) + np.array(predictions_2) + np.array(predictions_3) + np.array(predictions_4))\n",
    "predictions = (predictions >= 3).astype('int32')"
   ]
  },
  {
   "cell_type": "code",
   "execution_count": 10,
   "metadata": {},
   "outputs": [],
   "source": [
    "# Only the image name will be used when evaluating, the rest of the path does not matter\n",
    "submission_df = pd.DataFrame({'img_path': test_images_paths, 'label': predictions})\n",
    "submission_df.to_csv('submission.csv', index=False)"
   ]
  }
 ],
 "metadata": {
  "interpreter": {
   "hash": "aee8b7b246df8f9039afb4144a1f6fd8d2ca17a180786b69acc140d282b71a49"
  },
  "kernelspec": {
   "display_name": "Python 3.9.6 64-bit",
   "name": "python3"
  },
  "language_info": {
   "codemirror_mode": {
    "name": "ipython",
    "version": 3
   },
   "file_extension": ".py",
   "mimetype": "text/x-python",
   "name": "python",
   "nbconvert_exporter": "python",
   "pygments_lexer": "ipython3",
   "version": "3.9.6"
  },
  "orig_nbformat": 4
 },
 "nbformat": 4,
 "nbformat_minor": 2
}
